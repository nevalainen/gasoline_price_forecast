{
  "nbformat": 4,
  "nbformat_minor": 0,
  "metadata": {
    "colab": {
      "name": "gasoline.ipynb",
      "provenance": [],
      "collapsed_sections": []
    },
    "kernelspec": {
      "name": "python3",
      "display_name": "Python 3"
    },
    "language_info": {
      "name": "python"
    }
  },
  "cells": [
    {
      "cell_type": "code",
      "metadata": {
        "id": "uvLkhH_RatUD"
      },
      "source": [
        ""
      ],
      "execution_count": 4,
      "outputs": []
    },
    {
      "cell_type": "markdown",
      "metadata": {
        "id": "zwsEAQv1bQnM"
      },
      "source": [
        "# Introduction\n",
        "\n",
        "Takes gasoline prices from \"bensanhinta\" sheet.\n",
        "\n",
        "The data is in format:\n",
        "\n",
        "\n",
        "| update time   | date   | station\t  | E95E10 price\t  | 98E price\t  | Diesel price   |\n",
        "|:---------:|:---------:|:---------:|:---------:|:---------:|:---------:|\n",
        "| 21:00:10   | 18.4.2020   | ABC   | 1.332   | 1.422   | 1.222|\n",
        "| 21:00:10   | 18.4.2020   | Teboil Sakonkatu   | 1.308   | 1.398   | 1.198|\n",
        "\n",
        "<br>\n",
        "\n",
        "###Things to take into account while processing the data:\n",
        "\n",
        "- Polttoaine.net is a service that gets price data from users, that enter the price\n",
        "- Since the price data relies completely on activity of users, there is most likely days where the price information is not updated. \n",
        "\n",
        "###Setup\n",
        "- Change the name of spreadsheet where the data is stored. In this example, it is \"bensanhinta\"\n",
        "\n",
        "###TO-DO\n",
        "- Support for more stations\n",
        "- Currently it takes some manual work to change the station, it could (should) be improved so that price data of every station listed in spreadsheet is analyzed\n",
        "- Not sure what happens if data is invalid, e.g. if data is scraped from wrong elements of the website. Some kind of validation is needed just in case\n",
        "- Comparison - what station is the least expensive\n",
        "\n",
        "<br>\n",
        "In first part, we take the data from worksheet, and save it to \"prices_df\""
      ]
    },
    {
      "cell_type": "code",
      "metadata": {
        "id": "V4BvHY9_cIDP"
      },
      "source": [
        "from google.colab import auth\n",
        "auth.authenticate_user()\n",
        "\n",
        "import gspread\n",
        "from oauth2client.client import GoogleCredentials\n",
        "\n",
        "gc = gspread.authorize(GoogleCredentials.get_application_default())\n",
        "\n",
        "#Name of the spreadsheet needs to be changed if some other spreadsheet is beign used\n",
        "worksheet = gc.open('bensanhinta').sheet1\n",
        "\n",
        "# get_all_values gives a list of rows.\n",
        "rows = worksheet.get_all_values()\n",
        "print(rows)\n",
        "\n",
        "# Convert to a DataFrame and render.\n",
        "import pandas as pd\n",
        "prices_df = pd.DataFrame.from_records(rows)\n",
        "prices_df"
      ],
      "execution_count": null,
      "outputs": []
    },
    {
      "cell_type": "markdown",
      "metadata": {
        "id": "PRGR-iAygoPV"
      },
      "source": [
        "Then, we edit the headers to \"update time\", \"date\" etc.."
      ]
    },
    {
      "cell_type": "code",
      "metadata": {
        "id": "x3ycve7jgzU4"
      },
      "source": [
        "prices_df = prices_df.rename(columns=prices_df.iloc[0]).drop(prices_df.index[0])\n",
        "\n",
        "\n",
        "\n"
      ],
      "execution_count": null,
      "outputs": []
    },
    {
      "cell_type": "markdown",
      "metadata": {
        "id": "L8QcDd5eiSbj"
      },
      "source": [
        "Lets separate stations (or at least one in first phase, ABC in this case)\n",
        "\n"
      ]
    },
    {
      "cell_type": "code",
      "metadata": {
        "id": "tYquMoeFifoP"
      },
      "source": [
        "#Change this if/when other station needed\n",
        "station_name = \"ABC\"\n",
        "\n",
        "\n",
        "station_df = prices_df[prices_df[\"station\"] == station_name]\n",
        "station_df['Diesel price'] = pd.to_numeric(station_df['Diesel price'],errors='coerce')\n",
        "station_df['E95E10 price'] = pd.to_numeric(station_df['E95E10 price'],errors='coerce')\n",
        "station_df['98E price'] = pd.to_numeric(station_df['98E price'],errors='coerce')\n",
        "\n",
        "\n"
      ],
      "execution_count": null,
      "outputs": []
    },
    {
      "cell_type": "code",
      "metadata": {
        "colab": {
          "base_uri": "https://localhost:8080/",
          "height": 462
        },
        "id": "Ha0-zHIyq-Mj",
        "outputId": "c5932f6b-8fc0-4838-e32d-912845383e59"
      },
      "source": [
        "import datetime\n",
        "\n",
        "station_df = station_df.drop_duplicates(subset=['date'], keep='last')\n",
        "\n",
        "d_list = []\n",
        "ddelta_list = []\n",
        "price_diff_list = []\n",
        "for index, row in station_df.iterrows():\n",
        "    #first day modify\n",
        "    dsplit = row['date'].split('.')\n",
        "    day = datetime.date(int(dsplit[2]),int(dsplit[1]),int(dsplit[0]))\n",
        "    d_list.append(day)\n",
        "    lenl = len(d_list) \n",
        "    if lenl > 1:\n",
        "      ddelta = d_list[lenl - 1] - d_list[lenl - 2] \n",
        "      ddelta_list.append(ddelta.days)\n",
        "      \n",
        "    else:\n",
        "      ddelta_list.append(0)\n",
        "      price_diff_list.append(0)\n",
        "    \n",
        "\n",
        "    \n",
        "   \n",
        "\n",
        "station_df['date'] = d_list\n",
        "station_df['date_diff'] = ddelta_list\n",
        "\n",
        "station_df"
      ],
      "execution_count": null,
      "outputs": [
        {
          "output_type": "stream",
          "text": [
            "[0, 1, 1, 1, 1, 2, 1, 2, 2, 1, 1, 1, 1, 1, 1, 1, 2, 1, 1, 2, 2, 2, 2, 1, 1, 2, 1, 2, 1, 1, 1, 1, 1, 1, 1, 1, 1, 1, 2, 1, 2, 1, 1, 1, 1, 1, 2, 1, 1, 2, 1, 1, 1, 1, 1, 1, 1, 1, 2, 1, 1, 1, 1, 1, 2, 1, 2, 1, 1, 3, 1, 1, 1, 1, 1, 2, 2, 1, 1, 143, 1, 1, 1, 1, 1, 2, 1, 4, 1, 1, 2, 3, 1, 3, 1, 1, 1, 1, 1, 1, 2, 1, 1, 1, 1, 1, 1, 1, 2, 1, 1, 1, 2, 1, 1, 1, 2, 1, 1, 1, 1, 1, 2, 1, 1, 1, 1, 1, 1, 1, 1, 2, 1, 1, 1, 1, 1, 1, 2, 1, 2, 1, 1, 1, 1, 1, 2, 1, 1, 3, 3, 1, 1, 2, 1, 2, 2, 1, 1, 1, 1, 2, 1, 1, 1, 1, 1, 1, 1, 2, 1, 1, 1, 1, 1, 1, 1, 1, 1, 1, 1, 1, 1]\n"
          ],
          "name": "stdout"
        },
        {
          "output_type": "execute_result",
          "data": {
            "text/html": [
              "<div>\n",
              "<style scoped>\n",
              "    .dataframe tbody tr th:only-of-type {\n",
              "        vertical-align: middle;\n",
              "    }\n",
              "\n",
              "    .dataframe tbody tr th {\n",
              "        vertical-align: top;\n",
              "    }\n",
              "\n",
              "    .dataframe thead th {\n",
              "        text-align: right;\n",
              "    }\n",
              "</style>\n",
              "<table border=\"1\" class=\"dataframe\">\n",
              "  <thead>\n",
              "    <tr style=\"text-align: right;\">\n",
              "      <th></th>\n",
              "      <th>update time</th>\n",
              "      <th>date</th>\n",
              "      <th>station</th>\n",
              "      <th>E95E10 price</th>\n",
              "      <th>98E price</th>\n",
              "      <th>Diesel price</th>\n",
              "      <th>date_diff</th>\n",
              "    </tr>\n",
              "  </thead>\n",
              "  <tbody>\n",
              "    <tr>\n",
              "      <th>1</th>\n",
              "      <td>21:00:10</td>\n",
              "      <td>2020-04-18</td>\n",
              "      <td>ABC</td>\n",
              "      <td>1.332</td>\n",
              "      <td>1.422</td>\n",
              "      <td>1.222</td>\n",
              "      <td>0</td>\n",
              "    </tr>\n",
              "    <tr>\n",
              "      <th>11</th>\n",
              "      <td>21:00:06</td>\n",
              "      <td>2020-04-19</td>\n",
              "      <td>ABC</td>\n",
              "      <td>1.332</td>\n",
              "      <td>1.422</td>\n",
              "      <td>1.222</td>\n",
              "      <td>1</td>\n",
              "    </tr>\n",
              "    <tr>\n",
              "      <th>21</th>\n",
              "      <td>21:00:07</td>\n",
              "      <td>2020-04-20</td>\n",
              "      <td>ABC</td>\n",
              "      <td>1.332</td>\n",
              "      <td>1.422</td>\n",
              "      <td>1.222</td>\n",
              "      <td>1</td>\n",
              "    </tr>\n",
              "    <tr>\n",
              "      <th>31</th>\n",
              "      <td>21:00:04</td>\n",
              "      <td>2020-04-21</td>\n",
              "      <td>ABC</td>\n",
              "      <td>1.327</td>\n",
              "      <td>1.417</td>\n",
              "      <td>1.217</td>\n",
              "      <td>1</td>\n",
              "    </tr>\n",
              "    <tr>\n",
              "      <th>51</th>\n",
              "      <td>21:00:05</td>\n",
              "      <td>2020-04-22</td>\n",
              "      <td>ABC</td>\n",
              "      <td>1.313</td>\n",
              "      <td>1.403</td>\n",
              "      <td>1.211</td>\n",
              "      <td>1</td>\n",
              "    </tr>\n",
              "    <tr>\n",
              "      <th>...</th>\n",
              "      <td>...</td>\n",
              "      <td>...</td>\n",
              "      <td>...</td>\n",
              "      <td>...</td>\n",
              "      <td>...</td>\n",
              "      <td>...</td>\n",
              "      <td>...</td>\n",
              "    </tr>\n",
              "    <tr>\n",
              "      <th>2148</th>\n",
              "      <td>21:00:09</td>\n",
              "      <td>2021-04-21</td>\n",
              "      <td>ABC</td>\n",
              "      <td>1.699</td>\n",
              "      <td>1.789</td>\n",
              "      <td>1.549</td>\n",
              "      <td>1</td>\n",
              "    </tr>\n",
              "    <tr>\n",
              "      <th>2158</th>\n",
              "      <td>21:00:05</td>\n",
              "      <td>2021-04-22</td>\n",
              "      <td>ABC</td>\n",
              "      <td>1.693</td>\n",
              "      <td>1.783</td>\n",
              "      <td>1.543</td>\n",
              "      <td>1</td>\n",
              "    </tr>\n",
              "    <tr>\n",
              "      <th>2168</th>\n",
              "      <td>21:00:04</td>\n",
              "      <td>2021-04-23</td>\n",
              "      <td>ABC</td>\n",
              "      <td>1.595</td>\n",
              "      <td>1.685</td>\n",
              "      <td>1.495</td>\n",
              "      <td>1</td>\n",
              "    </tr>\n",
              "    <tr>\n",
              "      <th>2178</th>\n",
              "      <td>21:00:05</td>\n",
              "      <td>2021-04-24</td>\n",
              "      <td>ABC</td>\n",
              "      <td>1.555</td>\n",
              "      <td>1.645</td>\n",
              "      <td>1.488</td>\n",
              "      <td>1</td>\n",
              "    </tr>\n",
              "    <tr>\n",
              "      <th>2188</th>\n",
              "      <td>21:00:05</td>\n",
              "      <td>2021-04-25</td>\n",
              "      <td>ABC</td>\n",
              "      <td>1.555</td>\n",
              "      <td>1.645</td>\n",
              "      <td>1.488</td>\n",
              "      <td>1</td>\n",
              "    </tr>\n",
              "  </tbody>\n",
              "</table>\n",
              "<p>183 rows × 7 columns</p>\n",
              "</div>"
            ],
            "text/plain": [
              "     update time        date station  ...  98E price  Diesel price  date_diff\n",
              "1       21:00:10  2020-04-18     ABC  ...      1.422         1.222          0\n",
              "11      21:00:06  2020-04-19     ABC  ...      1.422         1.222          1\n",
              "21      21:00:07  2020-04-20     ABC  ...      1.422         1.222          1\n",
              "31      21:00:04  2020-04-21     ABC  ...      1.417         1.217          1\n",
              "51      21:00:05  2020-04-22     ABC  ...      1.403         1.211          1\n",
              "...          ...         ...     ...  ...        ...           ...        ...\n",
              "2148    21:00:09  2021-04-21     ABC  ...      1.789         1.549          1\n",
              "2158    21:00:05  2021-04-22     ABC  ...      1.783         1.543          1\n",
              "2168    21:00:04  2021-04-23     ABC  ...      1.685         1.495          1\n",
              "2178    21:00:05  2021-04-24     ABC  ...      1.645         1.488          1\n",
              "2188    21:00:05  2021-04-25     ABC  ...      1.645         1.488          1\n",
              "\n",
              "[183 rows x 7 columns]"
            ]
          },
          "metadata": {
            "tags": []
          },
          "execution_count": 8
        }
      ]
    },
    {
      "cell_type": "markdown",
      "metadata": {
        "id": "vBVnx1pJ0C3p"
      },
      "source": [
        "Date now edited to datetime. Next lext add price. In this case, only Diesel price is analyzed\n",
        "\n",
        "\n",
        "\n"
      ]
    },
    {
      "cell_type": "code",
      "metadata": {
        "id": "MnQTybAf0Bfw"
      },
      "source": [
        "\n",
        "\n",
        "station_df['Diesel_diff'] = station_df['Diesel price'] - station_df.shift(1)['Diesel price']\n",
        "\n"
      ],
      "execution_count": null,
      "outputs": []
    },
    {
      "cell_type": "code",
      "metadata": {
        "id": "54yush_B_Jfs"
      },
      "source": [
        "station_df_singleday = station_df.loc[station_df['date_diff'] == 1]\n",
        "\n",
        "station_df_singleday['Weekday'] = station_df_singleday['date']\n",
        "station_df_singleday['Weekday'] = station_df_singleday['Weekday'].apply(lambda x: x.weekday())\n",
        "\n",
        "station_df_singleday\n",
        "\n"
      ],
      "execution_count": null,
      "outputs": []
    },
    {
      "cell_type": "markdown",
      "metadata": {
        "id": "pUr5ctftEkgA"
      },
      "source": [
        "Then lets visualize!"
      ]
    },
    {
      "cell_type": "code",
      "metadata": {
        "colab": {
          "base_uri": "https://localhost:8080/",
          "height": 836
        },
        "id": "cIhzG8iyEl6E",
        "outputId": "1eb1ffd3-bda2-4f91-c6b5-311f98204be3"
      },
      "source": [
        "boxplot = station_df_singleday.boxplot(column='Diesel_diff', by='Weekday', figsize=(24,12))"
      ],
      "execution_count": null,
      "outputs": [
        {
          "output_type": "stream",
          "text": [
            "/usr/local/lib/python3.7/dist-packages/numpy/core/_asarray.py:83: VisibleDeprecationWarning: Creating an ndarray from ragged nested sequences (which is a list-or-tuple of lists-or-tuples-or ndarrays with different lengths or shapes) is deprecated. If you meant to do this, you must specify 'dtype=object' when creating the ndarray\n",
            "  return array(a, dtype, copy=False, order=order)\n"
          ],
          "name": "stderr"
        },
        {
          "output_type": "display_data",
          "data": {
            "image/png": "[encoded data removed]",
            "text/plain": [
              "<Figure size 1728x864 with 1 Axes>"
            ]
          },
          "metadata": {
            "tags": [],
            "needs_background": "light"
          }
        }
      ]
    }
  ]
}
